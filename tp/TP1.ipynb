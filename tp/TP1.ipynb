{
 "cells": [
  {
   "cell_type": "markdown",
   "metadata": {
    "id": "tXacS7dAgP_u"
   },
   "source": [
    "The goal of this first practical session is to introduce computational optimal transport (OT) in Python. You will familiarize yourself with OT by:\n",
    "1. Computing exact optimal transport, using the Python library `POT` (Python Optimal Transport).\n",
    "2. Computing entropic optimal transport, using first your own version of the Sinkhorn algorithm, then the Python library `OTT` (Optimal Transport Tools)."
   ]
  },
  {
   "cell_type": "markdown",
   "metadata": {
    "id": "ON_Vkyiiy4xp"
   },
   "source": [
    "# 0. Plotters"
   ]
  },
  {
   "cell_type": "markdown",
   "metadata": {
    "id": "vDFkaPXWztWc"
   },
   "source": [
    "In order to lighten the reading of the notebook, we place the functions allowing to perform plots, that are used multiple times, in the section below."
   ]
  },
  {
   "cell_type": "code",
   "execution_count": null,
   "metadata": {
    "executionInfo": {
     "elapsed": 3,
     "status": "ok",
     "timestamp": 1710253528165,
     "user": {
      "displayName": "Théo Uscidda",
      "userId": "04606330742318440102"
     },
     "user_tz": -60
    },
    "id": "713qzJEiy3uX"
   },
   "outputs": [],
   "source": [
    "def plot_weighted_points(\n",
    "    ax,\n",
    "    X, a,\n",
    "    Y, b,\n",
    "    title=None, X_label=None, Y_label=None\n",
    "):\n",
    "  ax.scatter(X[:,0], X[:,1], s=5000*a, c='r', edgecolors='k', label=X_label)\n",
    "  ax.scatter(Y[:,0], Y[:,1], s=5000*b, c='b', edgecolors='k', label=Y_label)\n",
    "  for i in range(np.shape(X)[0]):\n",
    "      ax.annotate(str(i+1), (X[i,0], X[i,1]),fontsize=30,color='black')\n",
    "  for i in range(np.shape(Y)[0]):\n",
    "      ax.annotate(str(i+1), (Y[i,0], Y[i,1]),fontsize=30,color='black')\n",
    "  if X_label is not None or Y_label is not None:\n",
    "    ax.legend(fontsize=20)\n",
    "  ax.axis('off')\n",
    "  ax.set_title(title, fontsize=25)\n",
    "\n",
    "def plot_assignement(\n",
    "    ax,\n",
    "    X, a,\n",
    "    Y, b,\n",
    "    optimal_plan,\n",
    "    title=None, X_label=None, Y_label=None\n",
    "):\n",
    "  plot_weighted_points(\n",
    "    ax=ax,\n",
    "    X=X, a=a,\n",
    "    Y=Y, b=b,\n",
    "    title=None,\n",
    "    X_label=X_label, Y_label=Y_label\n",
    "  )\n",
    "  for i in range(optimal_plan.shape[0]):\n",
    "      for j in range(optimal_plan.shape[1]):\n",
    "          ax.plot([X[i,0], Y[j,0]], [X[i,1], Y[j,1]], c='k', lw=30*optimal_plan[i,j], alpha=0.8)\n",
    "  ax.axis('off')\n",
    "  ax.set_title(title, fontsize=30)\n",
    "\n",
    "def plot_assignement_1D(\n",
    "    ax,\n",
    "    X, Y,\n",
    "    title=None\n",
    "):\n",
    "  plot_points_1D(\n",
    "    ax,\n",
    "    X, Y,\n",
    "    title=None\n",
    "  )\n",
    "  X_sorted = np.sort(X)\n",
    "  Y_sorted = np.sort(Y)\n",
    "  assert len(X) == len(Y), \"X and Y must have the same shape.\"\n",
    "  for i in range(len(X)):\n",
    "    ax.hlines(\n",
    "        y=0,\n",
    "        xmin=min(X_sorted[i], Y_sorted[i]),\n",
    "        xmax=max(X_sorted[i], Y_sorted[i]),\n",
    "        color='k',\n",
    "        lw=10\n",
    "    )\n",
    "  ax.axis('off')\n",
    "  ax.set_title(title, fontsize=30)\n",
    "\n",
    "def plot_points_1D(\n",
    "    ax,\n",
    "    X, Y,\n",
    "    title=None\n",
    "):\n",
    "  n = len(X)\n",
    "  a = np.ones(n) / n\n",
    "  ax.scatter(X, np.zeros(n), s=1000*a, c='r')\n",
    "  ax.scatter(Y, np.zeros(n), s=1000*b, c='b')\n",
    "  min_val = min(np.min(X), np.min(Y))\n",
    "  max_val = max(np.max(X), np.max(Y))\n",
    "  for i in range(n):\n",
    "      ax.annotate(str(i+1), xy=(X[i], 0.005), size=30, color='r', ha='center')\n",
    "  for j in range(n):\n",
    "      ax.annotate(str(j+1), xy=(Y[j], 0.005), size=30, color='b', ha='center')\n",
    "  ax.axis('off')\n",
    "  ax.plot(np.linspace(min_val, max_val, 10), np.zeros(10))\n",
    "  ax.set_title(title, fontsize=30)\n",
    "\n",
    "def plot_consistency(\n",
    "    ax,\n",
    "    reg_strengths,\n",
    "    plan_diff, distance_diff\n",
    "):\n",
    "  ax[0].loglog(reg_strengths, plan_diff, lw=4)\n",
    "  ax[0].set_ylabel('$||P^* - P_\\epsilon^*||_F$', fontsize=25)\n",
    "  ax[1].tick_params(which='both', size=20)\n",
    "  ax[0].grid(ls='--')\n",
    "  ax[1].loglog(reg_strengths, distance_diff, lw=4)\n",
    "  ax[1].set_xlabel('Regularization Strength $\\epsilon$', fontsize=25)\n",
    "  ax[1].set_ylabel(r'$ 100 \\cdot \\frac{\\langle C, P^*_\\epsilon \\rangle - \\langle C, P^* \\rangle}{\\langle C, P^* \\rangle} $', fontsize=25)\n",
    "  ax[1].tick_params(which='both', size=20)\n",
    "  ax[1].grid(ls='--')"
   ]
  },
  {
   "cell_type": "markdown",
   "metadata": {
    "id": "pHshqjqQgR-I"
   },
   "source": [
    "# I: Exact Optimal Transport with POT"
   ]
  },
  {
   "cell_type": "markdown",
   "metadata": {
    "id": "Y3GpwymlkE_w"
   },
   "source": [
    "## I.1 Reminders on Discrete Optimal Transport"
   ]
  },
  {
   "cell_type": "markdown",
   "metadata": {
    "id": "jLsQPesukF3J"
   },
   "source": [
    "Optimal Transport is a theory that allows us to compare two (weighted) points clouds $(X, a)$ and $(Y, b)$, where $X \\in \\mathbb{R}^{n \\times d}$ and $Y \\in \\mathbb{R}^{m \\times d}$ are the locations of the $n$ (resp. $m$) points in dimension $d$, and $a \\in \\mathbb{R}^n$, $b \\in \\mathbb{R}^m$ are the weights. We ask that the total weights sum to one, i.e. $\\sum_{i=1}^n a_i = \\sum_{j=1}^m b_j = 1$."
   ]
  },
  {
   "cell_type": "markdown",
   "metadata": {
    "id": "9AGkTtUmkIgE"
   },
   "source": [
    "The basic idea of Optimal Transport is to \"transport\" the mass located at points $X$ to the mass located at points $Y$.\n",
    "\n",
    "Let us denote by $U(a,b) := \\left\\{ P \\in \\mathbb{R}^{n \\times m} \\,|\\, P \\geq 0, \\sum_{j=1}^m P_{ij} = a_i, \\sum_{i=1}^n P_{ij} = b_j\\right\\}$ the set of admissible transport plans.\n",
    "\n",
    "If $P \\in U(a,b)$, the quantity $P_{ij} \\geq 0$ should be regarded as the mass transported from point $X_i$ to point $Y_j$. For this reason, it is called a *transport plan*.\n",
    "\n",
    "We will also consider a *cost function* $c : \\mathbb{R}^d \\times \\mathbb{R}^d → \\mathbb{R}$ and the associated cost matrix $C = [c(X_i, Y_j)]_{1\\leq i,j \\leq n,m}\\in \\mathbb{R}^{n \\times m}$, containing the pairwise costs between the points of each point cloud $X$ and $Y$. The quantity $C_{ij}$ should be regarded as the cost paid for transporting one unit of mass from $X_i$ to $Y_j$. This cost is usually computed using the positions $X_i$ and $Y_j$, for example $C_{ij} = \\|X_i - Y_j\\|_2$ or $C_{ij} = \\|X_i - Y_j\\|_2^2$, but may be more exotic in some cases.\n",
    "\n",
    "Then transporting mass according to $P \\in U(a,b)$ has a total cost of $\\sum_{i,j=1}^n P_{ij} C_{ij}$."
   ]
  },
  {
   "cell_type": "markdown",
   "metadata": {
    "id": "R9ikxJYYkct0"
   },
   "source": [
    "In \"Optimal Transport\", there is the word _Optimal_. Indeed, we want to find a transport plan $P \\in U(a,b)$ that will minimize its total cost. In other words, we want to solve\n",
    "$$\n",
    "    \\min_{P \\in U(a,b)} \\sum_{i,j=1}^n C_{ij }P_{ij} = \\min_{P \\in U(a,b)} ⟨C, P⟩.\n",
    "$$"
   ]
  },
  {
   "cell_type": "markdown",
   "metadata": {
    "id": "NM-63P8FkkS6"
   },
   "source": [
    "This problem is a Linear Program: the objective function is linear in the variable $P$, and the constraints are linear in $P$. We can thus solve this problem using classical Linear Programming algorithms, such as the simplex algorithm."
   ]
  },
  {
   "cell_type": "markdown",
   "metadata": {
    "id": "4x5r363jkgRO"
   },
   "source": [
    "If $P^*$ is a solution to the Optimal Transport problem, we will say that $P^*$ is an optimal transport plan between $(X, a)$ and $(Y, b)$, and that $\\sum_{ij} P^*_{ij} C_{ij}$ is the optimal transport distance between $(X, a)$ and $(Y, b)$: it is the minimal amount of \"energy\" that is necessary to transport the initial mass located at points $X$ to the target mass lcoated at points $Y$."
   ]
  },
  {
   "cell_type": "markdown",
   "metadata": {
    "id": "GRkwMArsnfCa"
   },
   "source": [
    "Usually, we represent the weighted point clouds by probability measures $\\mu = \\sum_{i=1}^n a_i \\delta_{X_i}$ and $\\nu = \\sum_{j=1}^m b_j \\delta_{Y_j}$. Solving the above problem, we then say that we solve the optimal transport problem between the measures $\\mu$ and $\\nu$. Moreover, we note:\n",
    "$$\n",
    "W_c(\\mu, \\nu) = \\min_{P \\in U(a,b)} ⟨C, P⟩.\n",
    "$$"
   ]
  },
  {
   "cell_type": "markdown",
   "metadata": {
    "id": "84wDwgQFkvFt"
   },
   "source": [
    "## I.2 Computing Optimal \"Croissant\" Transport"
   ]
  },
  {
   "cell_type": "markdown",
   "metadata": {
    "id": "NLgykx-8rI-g"
   },
   "source": [
    "### Install POT"
   ]
  },
  {
   "cell_type": "markdown",
   "metadata": {
    "id": "DDNJGErWJKlj"
   },
   "source": [
    "First, you need to install the package POT:"
   ]
  },
  {
   "cell_type": "code",
   "execution_count": null,
   "metadata": {
    "colab": {
     "base_uri": "https://localhost:8080/"
    },
    "executionInfo": {
     "elapsed": 7701,
     "status": "ok",
     "timestamp": 1710253543569,
     "user": {
      "displayName": "Théo Uscidda",
      "userId": "04606330742318440102"
     },
     "user_tz": -60
    },
    "id": "IZN6CQUJJKlk",
    "outputId": "85b1147e-fb31-4a61-bc93-01a9fbea9989"
   },
   "outputs": [],
   "source": [
    "! pip install POT"
   ]
  },
  {
   "cell_type": "markdown",
   "metadata": {
    "id": "7KoOIeTkhFlZ"
   },
   "source": [
    "Then, load the required packages."
   ]
  },
  {
   "cell_type": "code",
   "execution_count": null,
   "metadata": {
    "executionInfo": {
     "elapsed": 9583,
     "status": "ok",
     "timestamp": 1710253555136,
     "user": {
      "displayName": "Théo Uscidda",
      "userId": "04606330742318440102"
     },
     "user_tz": -60
    },
    "id": "wzaIkgE_JKll"
   },
   "outputs": [],
   "source": [
    "import ot\n",
    "import numpy as np\n",
    "import os\n",
    "from typing import Callable\n",
    "import matplotlib.pyplot as plt"
   ]
  },
  {
   "cell_type": "markdown",
   "metadata": {
    "id": "UMgiQ8NChvcd"
   },
   "source": [
    "Finally, connect the notebok to your drive to load some data that will be used for the experiments."
   ]
  },
  {
   "cell_type": "code",
   "execution_count": null,
   "metadata": {
    "colab": {
     "base_uri": "https://localhost:8080/"
    },
    "executionInfo": {
     "elapsed": 21356,
     "status": "ok",
     "timestamp": 1710253594515,
     "user": {
      "displayName": "Théo Uscidda",
      "userId": "04606330742318440102"
     },
     "user_tz": -60
    },
    "id": "J3TaarmShusx",
    "outputId": "9788b0ca-d4fa-412b-b925-7ab90236959d"
   },
   "outputs": [],
   "source": [
    "# from google.colab import drive\n",
    "# drive.mount('/content/drive')\n",
    "# os.chdir(\"/content/drive/MyDrive/TP_OT\")"
   ]
  },
  {
   "cell_type": "markdown",
   "metadata": {
    "id": "NW6VUp-mrLZL"
   },
   "source": [
    "### Formalization of the problem"
   ]
  },
  {
   "cell_type": "markdown",
   "metadata": {
    "id": "m91MZ3EhJKlp"
   },
   "source": [
    "We will solve the Bakeries/Cafés problem of transporting croissants from a number of Bakeries to Cafés.\n",
    "\n",
    "We use fictional positions, production and sale numbers. We impose that the total croissant production is equal to the number of croissants sold, so that Bakeries and Cafés can be represented as measures with the same total mass. Then, up to normalization, they can be processed as probability measures.\n",
    "\n",
    "Mathematically, we have acess to the position of the $m$ Bakeries as points in $\\mathbb{R}^2$ via $X \\in \\mathbb{R}^{n \\times 2}$ and their respective production via $a \\in \\mathbb{R}^m$ which describe the source point cloud. The Cafés where the croissants are sold are also defined by their position $Y \\in \\mathbb{R}^{m \\times 2}$ and the quantity of croissants sold by $b \\in \\mathbb{R}^{m}$.\n",
    "\n",
    "Afterwards, the Bakeries are represented by the probability measure $\\mu = \\sum_{i=1}^n a_i \\delta_{x_i}$ and the Cafés by $\\nu = \\sum_{j=1}^n b_j \\delta_{y_j}$. Calculating the optimal assignment of the croissants delivered by the Bakeries to the Cafés remains to calculating the optimal transport between the probability measures $\\mu$ and $\\nu$."
   ]
  },
  {
   "cell_type": "markdown",
   "metadata": {
    "id": "jXXuXMNLq5Ed"
   },
   "source": [
    "Let's download the data and check that the total croissant production is equal to the number of croissants sold."
   ]
  },
  {
   "cell_type": "code",
   "execution_count": null,
   "metadata": {
    "colab": {
     "base_uri": "https://localhost:8080/"
    },
    "executionInfo": {
     "elapsed": 897,
     "status": "ok",
     "timestamp": 1710253598580,
     "user": {
      "displayName": "Théo Uscidda",
      "userId": "04606330742318440102"
     },
     "user_tz": -60
    },
    "id": "e0c7vgKjJKlp",
    "outputId": "c759f3e9-6411-4074-86e4-86462e0bc3da"
   },
   "outputs": [],
   "source": [
    "# Load the data\n",
    "import pickle\n",
    "\n",
    "# with open('data/croissants.pickle', 'rb') as file:\n",
    "#     croissants = pickle.load(file)\n",
    "\n",
    "from urllib.request import urlopen\n",
    "import cloudpickle as cp\n",
    "\n",
    "croissants = cp.load(urlopen('https://marcocuturi.net/data/croissants.pickle'))\n",
    "\n",
    "bakery_pos = croissants['bakery_pos']\n",
    "bakery_prod = croissants['bakery_prod']\n",
    "cafe_pos = croissants['cafe_pos']\n",
    "cafe_prod = croissants['cafe_prod']\n",
    "\n",
    "print('Bakery productions =', bakery_prod)\n",
    "print('Total number of croissants =', bakery_prod.sum())\n",
    "print(\"\")\n",
    "print('Café sales =', cafe_prod)\n",
    "print('Total number of croissants sold =', cafe_prod.sum())"
   ]
  },
  {
   "cell_type": "markdown",
   "metadata": {
    "id": "TJEhqCwSqzvL"
   },
   "source": [
    "We now normalize the weight vectors $a$ and $b$, i.e. the production and the sales, to deal with probability measures."
   ]
  },
  {
   "cell_type": "code",
   "execution_count": null,
   "metadata": {
    "executionInfo": {
     "elapsed": 246,
     "status": "ok",
     "timestamp": 1710253601648,
     "user": {
      "displayName": "Théo Uscidda",
      "userId": "04606330742318440102"
     },
     "user_tz": -60
    },
    "id": "dK4d7O1SrrcD"
   },
   "outputs": [],
   "source": [
    "bakery_prod = bakery_prod / bakery_prod.sum()\n",
    "cafe_prod = cafe_prod / cafe_prod.sum()"
   ]
  },
  {
   "cell_type": "markdown",
   "metadata": {
    "id": "lVqkB3ElrrAT"
   },
   "source": [
    "Then, we plot the probability measures (the weighted point clouds) in $\\mathbb{R}^2$."
   ]
  },
  {
   "cell_type": "code",
   "execution_count": null,
   "metadata": {
    "colab": {
     "base_uri": "https://localhost:8080/",
     "height": 688
    },
    "executionInfo": {
     "elapsed": 574,
     "status": "ok",
     "timestamp": 1710253608021,
     "user": {
      "displayName": "Théo Uscidda",
      "userId": "04606330742318440102"
     },
     "user_tz": -60
    },
    "id": "rtgl4z6IJKlq",
    "outputId": "e6f35120-2c07-4d2a-a0f4-865c31a3b3c0"
   },
   "outputs": [],
   "source": [
    "fig, ax = plt.subplots(figsize=(10, 8))\n",
    "plot_weighted_points(\n",
    "    ax,\n",
    "    X=bakery_pos,\n",
    "    a=bakery_prod,\n",
    "    X_label=\"Bakeries\",\n",
    "    Y=cafe_pos,\n",
    "    Y_label=\"Cafés\",\n",
    "    b=cafe_prod,\n",
    "    title=\"Bakeries and Cafés\"\n",
    ")\n",
    "plt.show()"
   ]
  },
  {
   "cell_type": "markdown",
   "metadata": {
    "id": "waNcx-ZnrXY8"
   },
   "source": [
    "### Solving the problem"
   ]
  },
  {
   "cell_type": "markdown",
   "metadata": {
    "id": "dtX3qvihJKlq"
   },
   "source": [
    "\n",
    "To compute the optimal transport, we will consider three different costs:\n",
    "* $\\ell_1$: $c(x, y) = \\|x - y\\|_1$ ,\n",
    "* $\\ell_2$: $c(x, y) = \\|x - y\\|_2$,\n",
    "* $\\ell_2^2$: $c(x, y) = \\|x - y\\|_2^2$.\n",
    "\n",
    "Note that for different costs, there is a priori no reason to obtain the same optimal transport plan."
   ]
  },
  {
   "cell_type": "markdown",
   "metadata": {
    "id": "5zFd-Inupffk"
   },
   "source": [
    "***\n",
    "**Question:**\n",
    " * Complete the following function that computes a cost matrix $C$ from two set of points $X, Y$ and a cost function $c$. Compute the three costs matrices $C_{\\ell_1}, C_{\\ell_2}, C_{\\ell_2^2}\\in \\mathbb{R}^{n \\times m}$ using that function.\n",
    " * What cost should be used to minimize the total distance traveled by the driver that delivers croissants from Bakeries to Cafés?"
   ]
  },
  {
   "cell_type": "markdown",
   "metadata": {
    "id": "ZbdP3b0zqSvw"
   },
   "source": [
    "**Answer:**"
   ]
  },
  {
   "cell_type": "code",
   "execution_count": null,
   "metadata": {
    "colab": {
     "base_uri": "https://localhost:8080/"
    },
    "executionInfo": {
     "elapsed": 230,
     "status": "ok",
     "timestamp": 1710253620623,
     "user": {
      "displayName": "Théo Uscidda",
      "userId": "04606330742318440102"
     },
     "user_tz": -60
    },
    "id": "UvQAoUf-xDRS",
    "outputId": "b269676e-38b1-4663-b45e-55c11d888ec5"
   },
   "outputs": [],
   "source": [
    "def get_cost_matrix(\n",
    "    X: np.ndarray,\n",
    "    Y: np.ndarray,\n",
    "    cost_fn: Callable\n",
    ") -> np.ndarray:\n",
    "  \"\"\"\n",
    "  Compute the pairwise cost matrix between the n points in ``X`` and the m points in ``Y``.\n",
    "  It should output a matrix of size n x m.\n",
    "  \"\"\"\n",
    "  return ...\n",
    "\n",
    "\n",
    "# compute cost matrices for different costs\n",
    "C_l1 = get_cost_matrix(\n",
    "    X=..., Y=...,\n",
    "    cost_fn=...\n",
    "  )\n",
    "\n",
    "C_l2 = get_cost_matrix(\n",
    "    X=..., Y=...,\n",
    "    cost_fn= ...\n",
    ")\n",
    "C_l2_sq = get_cost_matrix(\n",
    "    X=..., Y=...,\n",
    "    cost_fn=...\n",
    ")\n",
    "\n",
    "# print shapes of cost matrices\n",
    "print(\n",
    "    f\"Shape of C_l1: {C_l1.shape}\\n\"\n",
    "    f\"Shape of C_l2: {C_l2.shape}\\n\"\n",
    "    f\"Shape of C_l2_sq: {C_l2_sq.shape}\"\n",
    ")"
   ]
  },
  {
   "cell_type": "markdown",
   "metadata": {
    "id": "aAQ4Vaz-qPwV"
   },
   "source": [
    "***"
   ]
  },
  {
   "cell_type": "markdown",
   "metadata": {
    "id": "mzdpol9dJKlr"
   },
   "source": [
    "We can now compute the Optimal Transport plan to transport the croissants from the bakeries to the cafés, for the three different costs."
   ]
  },
  {
   "cell_type": "markdown",
   "metadata": {
    "id": "fM9d7YmI8OM2"
   },
   "source": [
    "\n",
    "***\n",
    "**Question:**\n",
    "* Complete the following fuction that takes as input the cost matrix $C$ and the weights vectors $a$ and $b$ and outputs the optimal transport plan and the optimal transport cost using the `ot.emd` function. It has an option to display the results.\n",
    "* Use that function to compute and display the optimal plan and the optimal cost for $\\ell_1, \\ell_2$ and $\\ell_2^2$ geometries.\n",
    "\n",
    "**Remark:** See https://pythonot.github.io/ for informations on the `ot.emd` function."
   ]
  },
  {
   "cell_type": "markdown",
   "metadata": {
    "id": "1l0l-xPE8cRn"
   },
   "source": [
    "**Answer:**"
   ]
  },
  {
   "cell_type": "code",
   "execution_count": null,
   "metadata": {
    "executionInfo": {
     "elapsed": 321,
     "status": "ok",
     "timestamp": 1710253626826,
     "user": {
      "displayName": "Théo Uscidda",
      "userId": "04606330742318440102"
     },
     "user_tz": -60
    },
    "id": "9Gyay9HYkmAU"
   },
   "outputs": [],
   "source": [
    "def compute_transport(\n",
    "    C: np.ndarray,\n",
    "    a: np.ndarray,\n",
    "    b: np.ndarray,\n",
    "    verbose: bool = False,\n",
    "):\n",
    "  \"\"\"\n",
    "  Compute the optimal transport plan and the optimal transport cost\n",
    "  for cost matrix ``C`` and weight vectors $a$ and $b$.\n",
    "  If ``verbose`` is set to True, it displays the results.\n",
    "  \"\"\"\n",
    "  optimal_plan = ...\n",
    "  optimal_cost = ...\n",
    "    \n",
    "  if verbose:\n",
    "    print(\n",
    "        f\"optimal transport plan: \\n{optimal_plan}\"\n",
    "    )\n",
    "    print(\n",
    "        f\"transport cost: {optimal_cost}\"\n",
    "    )\n",
    "  return optimal_plan, optimal_cost"
   ]
  },
  {
   "cell_type": "code",
   "execution_count": null,
   "metadata": {
    "colab": {
     "base_uri": "https://localhost:8080/"
    },
    "executionInfo": {
     "elapsed": 224,
     "status": "ok",
     "timestamp": 1710253632037,
     "user": {
      "displayName": "Théo Uscidda",
      "userId": "04606330742318440102"
     },
     "user_tz": -60
    },
    "id": "KtSFNZHfb4UY",
    "outputId": "60368dc2-33b4-4fcf-c815-736895a6e226"
   },
   "outputs": [],
   "source": [
    "# l1 geometry\n",
    "print(\"l1 geometry:\")\n",
    "optimal_plan_l1_croissant, optimal_cost_l1_croissant = compute_transport(\n",
    "    C=...,\n",
    "    a=...,\n",
    "    b=...,\n",
    "    verbose=True\n",
    ")"
   ]
  },
  {
   "cell_type": "code",
   "execution_count": null,
   "metadata": {
    "colab": {
     "base_uri": "https://localhost:8080/"
    },
    "executionInfo": {
     "elapsed": 267,
     "status": "ok",
     "timestamp": 1710253635142,
     "user": {
      "displayName": "Théo Uscidda",
      "userId": "04606330742318440102"
     },
     "user_tz": -60
    },
    "id": "EyvBTVgKb533",
    "outputId": "d02a76c8-93b0-4be6-9dc5-49d6745cea1e"
   },
   "outputs": [],
   "source": [
    "# l2 geometry\n",
    "print(\"l2 geometry:\")\n",
    "optimal_plan_l2_croissant, optimal_cost_l2_croissant = compute_transport(\n",
    "    C=...,\n",
    "    a=...,\n",
    "    b=...,\n",
    "    verbose=True\n",
    ")"
   ]
  },
  {
   "cell_type": "code",
   "execution_count": null,
   "metadata": {
    "colab": {
     "base_uri": "https://localhost:8080/"
    },
    "executionInfo": {
     "elapsed": 206,
     "status": "ok",
     "timestamp": 1710253636380,
     "user": {
      "displayName": "Théo Uscidda",
      "userId": "04606330742318440102"
     },
     "user_tz": -60
    },
    "id": "uC_oU-Ur80-A",
    "outputId": "738d43f1-04a6-497b-c13b-c9f79659a28a"
   },
   "outputs": [],
   "source": [
    "# squared l2 geometry\n",
    "print(\"squared l2 geometry:\")\n",
    "optimal_plan_l2_sq_croissant, optimal_cost_l2_sq_croissant = compute_transport(\n",
    "    C=...,\n",
    "    a=...,\n",
    "    b=...,\n",
    "    verbose=True\n",
    ")"
   ]
  },
  {
   "cell_type": "markdown",
   "metadata": {
    "id": "JLoltbLQHdwp"
   },
   "source": [
    "***"
   ]
  },
  {
   "cell_type": "markdown",
   "metadata": {
    "id": "UztTuWD6H_L_"
   },
   "source": [
    "Now, we can visualize the assignement induced by each geometry."
   ]
  },
  {
   "cell_type": "code",
   "execution_count": null,
   "metadata": {
    "colab": {
     "base_uri": "https://localhost:8080/",
     "height": 501
    },
    "executionInfo": {
     "elapsed": 1627,
     "status": "ok",
     "timestamp": 1710253641590,
     "user": {
      "displayName": "Théo Uscidda",
      "userId": "04606330742318440102"
     },
     "user_tz": -60
    },
    "id": "psvhqt8XJKlr",
    "outputId": "eaf05f34-32b6-4178-c751-29f2345b6662"
   },
   "outputs": [],
   "source": [
    "fig, ax = plt.subplots(\n",
    "    1, 3, figsize=(9*3, 7)\n",
    ")\n",
    "\n",
    "plot_assignement(\n",
    "    ax=ax[0],\n",
    "    X=bakery_pos, a=bakery_prod, X_label=\"Bakeries\",\n",
    "    Y=cafe_pos, b=cafe_prod, Y_label=\"Cafés\",\n",
    "    optimal_plan=optimal_plan_l1_croissant,\n",
    "    title=r\"$\\ell_1$ geometry\"\n",
    ")\n",
    "\n",
    "plot_assignement(\n",
    "    ax=ax[1],\n",
    "    X=bakery_pos, a=bakery_prod,\n",
    "    Y=cafe_pos, b=cafe_prod,\n",
    "    optimal_plan=optimal_plan_l2_croissant,\n",
    "    title=r\"$\\ell_2$ geometry\"\n",
    ")\n",
    "\n",
    "plot_assignement(\n",
    "    ax=ax[2],\n",
    "    X=bakery_pos, a=bakery_prod,\n",
    "    Y=cafe_pos, b=cafe_prod,\n",
    "    optimal_plan=optimal_plan_l2_sq_croissant,\n",
    "    title=r\"$\\ell_2^2$ geometry\"\n",
    ")\n",
    "\n",
    "plt.show()"
   ]
  },
  {
   "cell_type": "markdown",
   "metadata": {
    "id": "Jd6T5SQdLJik"
   },
   "source": [
    "## I.3 Discrete OT plans between uniform measures are permutations"
   ]
  },
  {
   "cell_type": "markdown",
   "metadata": {
    "id": "GHVFX9kbND4h"
   },
   "source": [
    "### Reminders on OT and Birkhoff Theorem\n",
    "Now let's assume that we handle uniform weighted point clouds supported on the same number of points. Thus, keeping the previous notations, $(X, a)$ and $(Y, b)$ with $a = b = \\frac{1}{n} \\mathrm{1}$ and $X, Y \\in \\mathbb{R}^{n \\times d}$ i.e. $n=m$. Therefore, $\\mu = \\frac{1}{n} \\sum_{i=1}^n \\delta_{X_i}$ and $\\nu = \\frac{1}{n} \\sum_{i=1}^n \\delta_{Y_i}$. In that case, one can show the optimal transport plan $P^*$ between $\\mu$ and $\\nu$ is a permutation, i.e. for each atom $x_i$ of $\\mu$, its whole $\\frac{1}{n}$ mass is tranfered to an atom $y_{\\sigma(i)}$ of $\\nu$. There is no mass splitting.\n",
    "\n",
    "Indeed, let's first note that the set of admissible transport plans is:\n",
    "$$\n",
    "U_n := U(\\frac{1}{n}\\mathrm{1}, \\frac{1}{n}\\mathrm{1}) = \\{\n",
    "P \\in \\mathbb{R}^{n \\times n}, P \\geq 0, P \\mathrm{1} = \\frac{1}{n}\\mathrm{1}, P^\\top \\mathrm{1} = \\frac{1}{n} \\mathrm{1}\n",
    "\\}\n",
    "$$\n",
    "so $U_n$ is the set of bistochatic matrices, whose rows and columns sum to $\\frac{1}{n}$. If we define the permutation matrices by:\n",
    "$$\n",
    "\\mathrm{Perm}(n) := \\{\n",
    "P \\in \\mathbb{R}^{n \\times n}, ∃ \\sigma \\in \\mathcal{S}_n, P_{ij} = \\frac{1}{n} \\delta_{j\\sigma(i)}\n",
    "\\}\n",
    "$$\n",
    "one has $\\mathrm{Perm}(n) \\subset U_n$. In addition, thanks to the Birkhoff Theorem, the set of extremal points of the bistochastic matrices are the permutation matrices, i.e. $\\mathrm{Ext}(U_n) = \\mathrm{Perm}(n)$. Since the optimal value of a linear program is always attained on an extremal point of the constainted set, one has:\n",
    "$$\n",
    "W_c(\\mu, \\nu) = \\min_{P\\in U_n} \\sum_{i,j=1}^n P_{ij}C_{ij} = \\min_{P\\in \\mathrm{Perm}(n)} \\sum_{i,j=1}^n P_{ij}C_{ij} = \\min_{\\sigma \\in \\mathcal{S}_n} \\frac{1}{n} \\sum_{i=1}^n C_{i \\sigma(i)}\n",
    "$$\n",
    "Therefore, if $P^*$ is the optimal transport plan between $\\mu$ and $\\nu$, there exists $\\sigma^* \\in \\mathcal{S}_n$ such that $P^* = P_{\\sigma^*}$ and:\n",
    "$$\n",
    "\\frac{1}{n} \\sum_{i=1}^n c(X_i, Y_{\\sigma^*(i)}) = \\min_{\\sigma \\in \\mathcal{S}_n} \\frac{1}{n} \\sum_{i=1}^n c(X_i, Y_{\\sigma(i)})\n",
    "$$\n",
    "\n",
    "In this section, we will illustrate this fact for $d = 2$, then for $d = 1$ by linking optimal transport and sorting.\n"
   ]
  },
  {
   "cell_type": "markdown",
   "metadata": {
    "id": "kn4d264af0ep"
   },
   "source": [
    "### In dimension $d = 2$"
   ]
  },
  {
   "cell_type": "code",
   "execution_count": null,
   "metadata": {
    "executionInfo": {
     "elapsed": 212,
     "status": "ok",
     "timestamp": 1710253655305,
     "user": {
      "displayName": "Théo Uscidda",
      "userId": "04606330742318440102"
     },
     "user_tz": -60
    },
    "id": "_9pT7TgagD0X"
   },
   "outputs": [],
   "source": [
    "# Generate uniform weighted point clouds\n",
    "n, d = 10, 2\n",
    "np.random.seed(42)\n",
    "X = np.random.uniform(low=0.5, high=1., size=(n, d))\n",
    "Y = np.random.uniform(low=0., high=.5, size=(n, d))\n",
    "a = np.ones(n) / n\n",
    "b = np.ones(n) / n"
   ]
  },
  {
   "cell_type": "code",
   "execution_count": null,
   "metadata": {
    "colab": {
     "base_uri": "https://localhost:8080/",
     "height": 688
    },
    "executionInfo": {
     "elapsed": 678,
     "status": "ok",
     "timestamp": 1710253657015,
     "user": {
      "displayName": "Théo Uscidda",
      "userId": "04606330742318440102"
     },
     "user_tz": -60
    },
    "id": "Nxa8C3uBevtb",
    "outputId": "b9e0bc55-76a1-4d11-a56a-2a7a8266e004"
   },
   "outputs": [],
   "source": [
    "fig, ax = plt.subplots(figsize=(10, 8))\n",
    "plot_weighted_points(\n",
    "    ax,\n",
    "    X=X,\n",
    "    a=a,\n",
    "    X_label=r\"$X$\",\n",
    "    Y=Y,\n",
    "    Y_label=r\"$Y$\",\n",
    "    b=b,\n",
    "    title=\"Uniform point clouds\"\n",
    ")\n",
    "plt.show()"
   ]
  },
  {
   "cell_type": "markdown",
   "metadata": {
    "id": "iyg9tHHFiBt8"
   },
   "source": [
    "***\n",
    "**Question:**\n",
    "* Using the code from the section I.2, compute and display the optimal plan and the optimal cost for $\\ell_1, \\ell_2$ and $\\ell_2^2$ geometries.\n",
    "* Verify that the optimal plans are permutation matrices.\n",
    "\n",
    "**Answer:**"
   ]
  },
  {
   "cell_type": "code",
   "execution_count": null,
   "metadata": {
    "executionInfo": {
     "elapsed": 419,
     "status": "ok",
     "timestamp": 1710253660854,
     "user": {
      "displayName": "Théo Uscidda",
      "userId": "04606330742318440102"
     },
     "user_tz": -60
    },
    "id": "YF70a14Arf5a"
   },
   "outputs": [],
   "source": [
    "def is_permutation(transport_plan: np.ndarray):\n",
    "  \"\"\"\n",
    "  Test whether a transport plan between uniform measures supported on the same number of points is a permutation matrix.\n",
    "  Since it satisfies the marginal constraints, it remains to test if the entries are in [0, 1/n].\n",
    "  \"\"\"\n",
    "  assert ..., (\n",
    "      \"A transport plan should have nonnegative entries.\"\n",
    "  )\n",
    "  assert ..., (\n",
    "      \"A transport plan which is not a square matrix cannot be a permutation matrix.\"\n",
    "  )\n",
    "    \n",
    "  n = transport_plan.shape[0]\n",
    "  unif = np.ones(n) / n\n",
    "  assert (\n",
    "      ...\n",
    "      and\n",
    "      ...\n",
    "  ), (\n",
    "      \"A transport plan between uniform measures should verify the uniform marginal constraints.\"\n",
    "  )\n",
    "  return (\n",
    "      np.all(np.isin(..., ...))\n",
    "  )"
   ]
  },
  {
   "cell_type": "code",
   "execution_count": null,
   "metadata": {
    "colab": {
     "base_uri": "https://localhost:8080/"
    },
    "executionInfo": {
     "elapsed": 3,
     "status": "ok",
     "timestamp": 1710253663040,
     "user": {
      "displayName": "Théo Uscidda",
      "userId": "04606330742318440102"
     },
     "user_tz": -60
    },
    "id": "otfF-32IbPt4",
    "outputId": "941fef9b-1d46-422f-bb2c-ef8ed76126cf"
   },
   "outputs": [],
   "source": [
    "# l1 geometry\n",
    "print(\"l1 geometry:\")\n",
    "C_l1 = ...\n",
    "optimal_plan_l1, optimal_cost_l1 = ...\n",
    "\n",
    "print(\n",
    "    f\"is permutation matrix? {is_permutation(optimal_plan_l1)}\"\n",
    ")"
   ]
  },
  {
   "cell_type": "code",
   "execution_count": null,
   "metadata": {
    "colab": {
     "base_uri": "https://localhost:8080/"
    },
    "executionInfo": {
     "elapsed": 2,
     "status": "ok",
     "timestamp": 1710253664557,
     "user": {
      "displayName": "Théo Uscidda",
      "userId": "04606330742318440102"
     },
     "user_tz": -60
    },
    "id": "htYhdDCzbRlo",
    "outputId": "9eb649c5-238f-4952-bd5e-1155b695c08b"
   },
   "outputs": [],
   "source": [
    "# l2 geometry\n",
    "print(\"l2 geometry:\")\n",
    "C_l2 = ...\n",
    "optimal_plan_l2, optimal_cost_l2 = ...\n",
    "\n",
    "print(\n",
    "    f\"is permutation matrix? {is_permutation(optimal_plan_l2)}\"\n",
    ")"
   ]
  },
  {
   "cell_type": "code",
   "execution_count": null,
   "metadata": {
    "colab": {
     "base_uri": "https://localhost:8080/"
    },
    "executionInfo": {
     "elapsed": 222,
     "status": "ok",
     "timestamp": 1710253717173,
     "user": {
      "displayName": "Théo Uscidda",
      "userId": "04606330742318440102"
     },
     "user_tz": -60
    },
    "id": "jM82pDsJwOXH",
    "outputId": "806703ce-2b85-421b-9354-1c7abb5dd274"
   },
   "outputs": [],
   "source": [
    "# squared l2 geometry\n",
    "C_l2_sq = ...\n",
    "optimal_plan_l2_sq, optimal_cost_l2_sq = ...\n",
    "\n",
    "print(\n",
    "    f\"is permutation matrix? {is_permutation(optimal_plan_l2_sq)}\"\n",
    ")"
   ]
  },
  {
   "cell_type": "markdown",
   "metadata": {
    "id": "fWNjPsZ7cGdU"
   },
   "source": [
    "***\n",
    "\n",
    "We can now plot the optimal assignements."
   ]
  },
  {
   "cell_type": "code",
   "execution_count": null,
   "metadata": {
    "colab": {
     "base_uri": "https://localhost:8080/",
     "height": 501
    },
    "executionInfo": {
     "elapsed": 1604,
     "status": "ok",
     "timestamp": 1710253723323,
     "user": {
      "displayName": "Théo Uscidda",
      "userId": "04606330742318440102"
     },
     "user_tz": -60
    },
    "id": "ZCDF0edLwrYj",
    "outputId": "6a7ac45a-87c6-4cd1-81cd-0efd017b9511"
   },
   "outputs": [],
   "source": [
    "fig, ax = plt.subplots(\n",
    "    1, 3, figsize=(9*3, 7)\n",
    ")\n",
    "plot_assignement(\n",
    "    ax=ax[0],\n",
    "    X=X, a=a, X_label=r\"$X$\",\n",
    "    Y=Y, b=b, Y_label=r\"$Y$\",\n",
    "    optimal_plan=optimal_plan_l1,\n",
    "    title=r\"$\\ell_1$ geometry\"\n",
    ")\n",
    "plot_assignement(\n",
    "    ax=ax[1],\n",
    "    X=X, a=a,\n",
    "    Y=Y, b=b,\n",
    "    optimal_plan=optimal_plan_l2,\n",
    "    title=r\"$\\ell_2$ geometry\"\n",
    ")\n",
    "plot_assignement(\n",
    "    ax=ax[2],\n",
    "    X=X, a=a,\n",
    "    Y=Y, b=b,\n",
    "    optimal_plan=optimal_plan_l2_sq,\n",
    "    title=r\"$\\ell_2^2$ geometry\"\n",
    ")\n",
    "plt.show()"
   ]
  },
  {
   "cell_type": "markdown",
   "metadata": {
    "id": "ntJtjZfFZHRA"
   },
   "source": [
    "### In dimension $d = 1$"
   ]
  },
  {
   "cell_type": "markdown",
   "metadata": {
    "id": "HQbPr8mIa6He"
   },
   "source": [
    "Let assume in this subsection that the cost is of the form $c(x, y) = \\|x - y\\|_p^q$ with $p, q \\geq 1$, which covers the costs we considered in the previous examples, and that the points are in $\\mathbb{R}$, i.e. $X_1, ..., X_n, Y_1, ... , Y_n \\in \\mathbb{R}$. Then, computing OT boils down to sorting the points. Indeed, for all costs of the above form, the optimal permutation between $X$ and $Y$ is $\\sigma^* = \\sigma_X^{-1} \\circ \\sigma_Y$ where $\\sigma_X$ is the permutation sorting the $X_i$ and $\\sigma_Y$ the one sorting the $Y_i$. In particular, one has:\n",
    "\n",
    "$$\n",
    "W_c(\\mu, \\nu) = \\frac{1}{n} \\sum_{i=1}^n c(X_i, Y_{\\sigma_X^{-1} \\circ \\sigma_Y(i)}) = \\frac{1}{n} \\sum_{i=1}^n c(X_{\\sigma_X(i)}, Y_{\\sigma_Y(i)})\n",
    "$$\n",
    "\n",
    "Thus, to compute the optimal transport cost, it is sufficient to sort $X$ and $Y$.\n",
    "\n",
    "Let's check this fact on an example, by comparing the transport cost obtained by sorting the points to the one obtained with the function `ot.emd`. To simplify, we generate points $X,Y \\subset \\mathbb{R}$ s.t. $X$ is sorted, i.e. $\\sigma_X = I_d$ and then $\\sigma^*=\\sigma_Y$. Therefore, computing the optimal assignement amounts to sort $Y$.\n",
    "\n"
   ]
  },
  {
   "cell_type": "code",
   "execution_count": null,
   "metadata": {
    "colab": {
     "base_uri": "https://localhost:8080/",
     "height": 541
    },
    "executionInfo": {
     "elapsed": 724,
     "status": "ok",
     "timestamp": 1710253754281,
     "user": {
      "displayName": "Théo Uscidda",
      "userId": "04606330742318440102"
     },
     "user_tz": -60
    },
    "id": "1ErMy1-bhFhZ",
    "outputId": "7a057741-456f-40b7-a1a4-03d9c4107f44"
   },
   "outputs": [],
   "source": [
    "# generate points\n",
    "n = 5\n",
    "X = np.arange(0, 2*n, 2) + .25 * np.random.normal(size=(n,))\n",
    "a = np.ones(n) / n\n",
    "Y = np.arange(1, 2*n+1, 2) + .25 * np.random.normal(size=(n,))\n",
    "np.random.shuffle(Y)\n",
    "b = np.ones(n) / n\n",
    "\n",
    "# plot points\n",
    "fig, ax = plt.subplots(figsize=(12, 6))\n",
    "plot_points_1D(\n",
    "    ax,\n",
    "    X, Y,\n",
    "    title=\"1D points\"\n",
    ")"
   ]
  },
  {
   "cell_type": "markdown",
   "metadata": {
    "id": "qCk7JIPumbVN"
   },
   "source": [
    "***"
   ]
  },
  {
   "cell_type": "markdown",
   "metadata": {
    "id": "ZkGNk-9Vm492"
   },
   "source": [
    "**Question:**\n",
    "* For $\\ell_1$ and $\\ell_2^2$ geometries ($\\ell_2$ and $\\ell_1$ coincides on $\\mathbb{R}$), compute the optimal assignement and optimal transport cost by sorting $Y$. Put the assignement into a vector $s \\in \\mathbb{R}^n$, s.t. $X_i$ is mapped to $Y_{s_i}$, i.e. $s_i = \\sigma^*(i)$. Is it different according to the geometry?\n",
    "* Put now the assignment you obtained by sorting the points in the form of a transport plan $P^* \\in \\mathbb{R}^{n \\times n}$. Check that you obtain the results with `ot.emd`."
   ]
  },
  {
   "cell_type": "markdown",
   "metadata": {
    "id": "OWg8oj9TngOL"
   },
   "source": [
    "**Answer:**"
   ]
  },
  {
   "cell_type": "code",
   "execution_count": null,
   "metadata": {
    "colab": {
     "base_uri": "https://localhost:8080/"
    },
    "executionInfo": {
     "elapsed": 4,
     "status": "ok",
     "timestamp": 1677186314690,
     "user": {
      "displayName": "Théo Uscidda",
      "userId": "04606330742318440102"
     },
     "user_tz": -60
    },
    "id": "EwC5U3WSrNi6",
    "outputId": "23e277c0-b38f-4c1e-a9c5-fbd73d39c2bf"
   },
   "outputs": [],
   "source": [
    "# sort the points\n",
    "Y_sorted = ... # TODO\n",
    "\n",
    "# get optimal assignement as a vector\n",
    "assignement = ... # TODO\n",
    "\n",
    "# transform it to a transport plan\n",
    "optimal_plan = ... # TODO\n",
    "\n",
    "print(\n",
    "    f\"optimal transport plan obtained by sorting the points:\\n {optimal_plan}\"\n",
    ")"
   ]
  },
  {
   "cell_type": "code",
   "execution_count": null,
   "metadata": {
    "colab": {
     "base_uri": "https://localhost:8080/"
    },
    "executionInfo": {
     "elapsed": 213,
     "status": "ok",
     "timestamp": 1677186314899,
     "user": {
      "displayName": "Théo Uscidda",
      "userId": "04606330742318440102"
     },
     "user_tz": -60
    },
    "id": "-5oCnhXoXxcu",
    "outputId": "320be5fd-7139-48fd-81b0-8491f131fb6a"
   },
   "outputs": [],
   "source": [
    "# l1 geometry\n",
    "print(\"l1 geometry:\")\n",
    "C_l1 = ...\n",
    "optimal_plan_l1, optimal_cost_l1 = ...\n",
    "\n",
    "print(\n",
    "    f\"is it equal to the one obtained by sorting the points? \"\n",
    "    f\"{np.array_equal(optimal_plan_l1, optimal_plan)}\"\n",
    ")"
   ]
  },
  {
   "cell_type": "code",
   "execution_count": null,
   "metadata": {
    "colab": {
     "base_uri": "https://localhost:8080/"
    },
    "executionInfo": {
     "elapsed": 3,
     "status": "ok",
     "timestamp": 1677186314900,
     "user": {
      "displayName": "Théo Uscidda",
      "userId": "04606330742318440102"
     },
     "user_tz": -60
    },
    "id": "ipeGD4G7X2ce",
    "outputId": "7541cb4f-8dbe-42e0-f51a-b59415be0933"
   },
   "outputs": [],
   "source": [
    "# squared l2 geometry\n",
    "C_l2_sq = ...\n",
    "optimal_plan_l2_sq, optimal_cost_l2_sq = ...\n",
    "\n",
    "print(\n",
    "    f\"is permutation matrix? {is_permutation(optimal_plan_l2_sq)}\"\n",
    ")\n",
    "print(\n",
    "    f\"is it equal to the one obtained by sorting the points? \"\n",
    "    f\"{np.array_equal(optimal_plan_l2_sq, optimal_plan)}\"\n",
    ")"
   ]
  },
  {
   "cell_type": "markdown",
   "metadata": {
    "id": "j8C70m28m338"
   },
   "source": [
    "***"
   ]
  },
  {
   "cell_type": "markdown",
   "metadata": {
    "id": "H6Z9N7qKH0R9"
   },
   "source": [
    "Finally, one can plot the assignement."
   ]
  },
  {
   "cell_type": "code",
   "execution_count": null,
   "metadata": {
    "colab": {
     "base_uri": "https://localhost:8080/",
     "height": 601
    },
    "executionInfo": {
     "elapsed": 317,
     "status": "error",
     "timestamp": 1677186795376,
     "user": {
      "displayName": "Théo Uscidda",
      "userId": "04606330742318440102"
     },
     "user_tz": -60
    },
    "id": "3HKpuZUzH3zz",
    "outputId": "a141fcda-eba6-4c02-ecf5-51b232fe6478"
   },
   "outputs": [],
   "source": [
    "fig, ax = plt.subplots(figsize=(12, 6))\n",
    "plot_assignement_1D(\n",
    "    ax,\n",
    "    X, Y,\n",
    "    title=\"1D assignement\"\n",
    ")\n",
    "plt.show()"
   ]
  },
  {
   "cell_type": "markdown",
   "metadata": {
    "id": "jZ2CzvlhJKls"
   },
   "source": [
    "# II. Entropy Regularized Optimal Transport"
   ]
  },
  {
   "cell_type": "markdown",
   "metadata": {
    "id": "l1A8kJK6JKls"
   },
   "source": [
    "## II.1 Reminders on Sinkhorn Algorithm"
   ]
  },
  {
   "cell_type": "markdown",
   "metadata": {
    "id": "5Ei43Lq3JKls"
   },
   "source": [
    "### Adding negative entropy as a regularizer\n",
    "\n",
    "In real applications, and especially in Machine Learning, we often have to deal with huge numbers of points. In this case, the linear programming algorithms which have cubic complexity will take too much time to run.\n",
    "\n",
    "That's why in practise, among other reasons, people minimize another criterion given by\n",
    "$$\n",
    "    \\min_{P \\in \\mathcal{U}(a,b)} \\langle C, P \\rangle + \\epsilon \\sum_{ij} P_{ij} [ \\log(P_{ij}) - 1].\n",
    "$$\n",
    "When $\\epsilon$ is sufficiently small, we can consider that a solution to the above problem (often refered to as \"Entropy-regularized Optimal Transport\") is a good approximation of a real optimal transport plan."
   ]
  },
  {
   "cell_type": "markdown",
   "metadata": {
    "id": "nrTJcoi4JKls"
   },
   "source": [
    "### The Sinkhorn iterates\n",
    "\n",
    "In order to solve this problem, one can remark that the optimality conditions imply that a solution $P_\\epsilon^*$ necessarily is of the form $P_\\epsilon^* = \\text{diag}(u) \\, K \\, \\text{diag}(v)$, where $K = \\exp(-C/\\epsilon)$ and $u,v$ are two non-negative vectors.\n",
    "\n",
    "$P_\\epsilon^*$ should verify the constraints, i.e. $P_\\epsilon^* \\in U(a,b)$, so that\n",
    "$$\n",
    "    P_\\epsilon^* 1_m = a \\text{  and  } (P_\\epsilon^*)^T 1_n = b\n",
    "$$\n",
    "which can be rewritten as\n",
    "$$\n",
    "    u \\odot (Kv) = a \\text{  and  } v \\odot (K^T u) = b\n",
    "$$\n",
    "\n",
    "Then Sinkhorn's algorithm alternate between the resolution of these two equations, and reads at iteration $t$:\n",
    "$$\n",
    "    u^{t+1} \\leftarrow \\frac{a}{Kv^t} \\text{  and  } v^{t+1} \\leftarrow \\frac{b}{K^T u^{t+1}}\n",
    "$$"
   ]
  },
  {
   "cell_type": "markdown",
   "metadata": {
    "id": "6-oZEcKPJKls"
   },
   "source": [
    "### Initialization and convergence\n",
    "\n",
    "Usually, it starts from $v^{0} = \\mathrm{1}_m$ and alternate the above updates until $\\|u^{t+1} \\odot (Kv^{t+1}) - a\\|_1 + \\|v^{t+1} \\odot (K^T u^{t+1}) - b\\|_1 \\leq \\tau$, where $\\tau > 0$ is a fixed convergence threshold. Actually, since at the end of each iteration, one exactly has $v^{t+1} \\odot (K^T u^{t+1}) = b$, it just remains to test if $\\|u^{t+1} \\odot (Kv^{t+1}) - a\\|_1 \\leq \\tau$.\n",
    "\n",
    "From an entropic optimal transport plan $P^*_\\epsilon$, we can approximate the optimal transport cost by $\\sum_{i,j=1}^n P^*_{\\epsilon_{ij}} C_{ij} = ⟨C, P^*_\\epsilon⟩$. For the rest of the section, we call this quantity the entropic optimal transport cost."
   ]
  },
  {
   "cell_type": "markdown",
   "metadata": {
    "id": "khwF8xzpScRf"
   },
   "source": [
    "## II.2 Using your own Sinkhorn"
   ]
  },
  {
   "cell_type": "markdown",
   "metadata": {
    "id": "tjCYGLuIT1Nx"
   },
   "source": [
    "\n",
    "### Sinkhorn Implementation\n",
    "\n",
    "In this section, you will implement your own version of the Sinkhorn Algorithm."
   ]
  },
  {
   "cell_type": "markdown",
   "metadata": {
    "id": "2NUVuyn6T6jJ"
   },
   "source": [
    "***\n",
    "\n",
    "**Question:** Complete the following Sinkhorn algorithm, by:\n",
    "* Computing the kernel matrix $K = \\exp(-C / \\epsilon)$,\n",
    "* Starting from $v^{0} = \\mathrm{1}_m$,\n",
    "* Alternating the updates $u^{t+1} \\odot (Kv^t) = a$ and $v^{t+1} \\odot (K^T u^{t+1}) = b$,\n",
    "* Declaring convergence when $\\|u^t \\odot (Kv^t) - a\\|_1 + \\|v^t \\odot (K^T u^t) - b\\|_1 \\leq \\tau$.\n",
    "\n",
    "**Remark:** to avoid infinite loops, you should also use also a maximum number of iterations ``max_iter``, to stop the algorithm after a fixed number of iterations if the convergence is not reached.\n",
    "\n",
    "**Answer:**"
   ]
  },
  {
   "cell_type": "code",
   "execution_count": null,
   "metadata": {
    "id": "OlHNGgltJKls"
   },
   "outputs": [],
   "source": [
    "def sinkhorn(\n",
    "    a: np.ndarray,\n",
    "    b: np.ndarray,\n",
    "    C: np.ndarray,\n",
    "    epsilon: float,\n",
    "    max_iters: int = 100,\n",
    "    tau: float = 1e-4\n",
    ") -> np.ndarray:\n",
    "    \"\"\"\n",
    "        Sinkhorn's algorithm. It should output the optimal transport plan.\n",
    "    \"\"\"\n",
    "    ...\n"
   ]
  },
  {
   "cell_type": "markdown",
   "metadata": {
    "id": "qtDcKSs9WkTr"
   },
   "source": [
    "***"
   ]
  },
  {
   "cell_type": "markdown",
   "metadata": {
    "id": "FLC9RChJW-t7"
   },
   "source": [
    "Now, we can test the Sinkhorn algorithm on the \"croissant\" transport example.\n",
    "\n",
    "***\n",
    "**Question:**\n",
    "* Complete the following fuction that takes as input the cost matrix $C$ and the weights vectors $a$ and $b$ and outputs the entropic optimal transport plan and the entropic optimal transport cost using the `sinkhorn` function. As for the exact transport, it has an option to display the results.\n",
    "* Use that function on the croissant transport to compute and display the optimal plan and the optimal cost for the $\\ell_1, \\ell_2$ and $\\ell_2^2$ geometries.\n",
    "* Each time you run the Sinkhorn algorithm, you should use $\\epsilon = 0.1 \\cdot \\bar{C}$, with $\\bar{C} = \\frac{1}{nm} \\sum_{i=1}^n \\sum_{j=1}^m C_{ij}$ is the mean of the cost matrix.  It remains to adapt the $\\epsilon$ value according to the cost matrix, to control the magnitude of the entries of $C / \\epsilon$. Why this strategy? What will happen if $\\epsilon$ is too small compared to the entries of $C$?\n",
    "\n",
    "**Answer:**"
   ]
  },
  {
   "cell_type": "code",
   "execution_count": null,
   "metadata": {
    "id": "2z44kr8OJKlt"
   },
   "outputs": [],
   "source": [
    "def compute_transport_sinkhorn(\n",
    "    C: np.ndarray,\n",
    "    a: np.ndarray,\n",
    "    b: np.ndarray,\n",
    "    epsilon: float,\n",
    "    max_iters: int = 10_000,\n",
    "    tau: float = 1e-4,\n",
    "    verbose: bool = False,\n",
    "):\n",
    "  \"\"\"\n",
    "  Compute the entropic optimal transport plan and the entropic optimal transport cost\n",
    "  for cost matrix ``C`` and weight vectors $a$ and $b$.\n",
    "  If ``verbose`` is set to True, it displays the results.\n",
    "  \"\"\"\n",
    "  optimal_plan_sinkhorn = ... # TODO\n",
    "  optimal_cost_sinkhorn = ... # TODO\n",
    "    \n",
    "  if verbose:\n",
    "    print(\n",
    "        f\"entropic optimal transport plan: \\n{optimal_plan_sinkhorn}\"\n",
    "    )\n",
    "    print(\n",
    "        f\"entropic transport cost: {optimal_cost_sinkhorn}\"\n",
    "    )\n",
    "      \n",
    "  return optimal_plan_sinkhorn, optimal_cost_sinkhorn"
   ]
  },
  {
   "cell_type": "code",
   "execution_count": null,
   "metadata": {
    "colab": {
     "base_uri": "https://localhost:8080/"
    },
    "executionInfo": {
     "elapsed": 5,
     "status": "ok",
     "timestamp": 1677186319119,
     "user": {
      "displayName": "Théo Uscidda",
      "userId": "04606330742318440102"
     },
     "user_tz": -60
    },
    "id": "45XKyCyQJKlt",
    "outputId": "9f68f4d1-f6ce-41e9-990e-b0890b4084cb"
   },
   "outputs": [],
   "source": [
    "# l1 geometry\n",
    "print(\"l1 geometry:\")\n",
    "\n",
    "C_l1 = ... # TODO\n",
    "epsilon = ... # TODO\n",
    "\n",
    "optimal_plan_sinkhorn_l1_croissant, optimal_cost_sinkhorn_l1_croissant = ..."
   ]
  },
  {
   "cell_type": "code",
   "execution_count": null,
   "metadata": {
    "colab": {
     "base_uri": "https://localhost:8080/"
    },
    "executionInfo": {
     "elapsed": 5,
     "status": "ok",
     "timestamp": 1677186319120,
     "user": {
      "displayName": "Théo Uscidda",
      "userId": "04606330742318440102"
     },
     "user_tz": -60
    },
    "id": "9JA6rCO-ka6X",
    "outputId": "6ef09f42-96b6-42af-c4e0-a280acda8139"
   },
   "outputs": [],
   "source": [
    "# l2 geometry\n",
    "print(\"l2 geometry:\")\n",
    "\n",
    "C_l2 = ... \n",
    "epsilon = ...\n",
    "\n",
    "optimal_plan_sinkhorn_l2_croissant, optimal_cost_sinkhorn_l2_croissant = ..."
   ]
  },
  {
   "cell_type": "code",
   "execution_count": null,
   "metadata": {
    "colab": {
     "base_uri": "https://localhost:8080/"
    },
    "executionInfo": {
     "elapsed": 4,
     "status": "ok",
     "timestamp": 1677186319120,
     "user": {
      "displayName": "Théo Uscidda",
      "userId": "04606330742318440102"
     },
     "user_tz": -60
    },
    "id": "xGrCbdtZkbdu",
    "outputId": "fa8c9abe-a06e-4c76-d059-e97687851c26"
   },
   "outputs": [],
   "source": [
    "# squared l2 geometry\n",
    "print(\"squared l2 geometry:\")\n",
    "C_l2_sq = ...\n",
    "epsilon = ... \n",
    "\n",
    "optimal_plan_sinkhorn_l2_sq_croissant, optimal_cost_sinkhorn_l2_sq_croissant = ..."
   ]
  },
  {
   "cell_type": "markdown",
   "metadata": {
    "id": "zxTueYe9gn4F"
   },
   "source": [
    "\n",
    "\n",
    "***"
   ]
  },
  {
   "cell_type": "markdown",
   "metadata": {
    "id": "jK_JSqyUlkTN"
   },
   "source": [
    "### The effect of $\\epsilon$"
   ]
  },
  {
   "cell_type": "markdown",
   "metadata": {
    "id": "8PaF7-DXiONd"
   },
   "source": [
    "Now we can display the transportation plans obtained with Sinkhorn's algortihm, as we did for the exact OT."
   ]
  },
  {
   "cell_type": "code",
   "execution_count": null,
   "metadata": {
    "colab": {
     "base_uri": "https://localhost:8080/"
    },
    "executionInfo": {
     "elapsed": 1917,
     "status": "ok",
     "timestamp": 1677186324355,
     "user": {
      "displayName": "Théo Uscidda",
      "userId": "04606330742318440102"
     },
     "user_tz": -60
    },
    "id": "apv5iDV5iZ9W",
    "outputId": "329a7955-acc7-490f-89e6-e7407763932c"
   },
   "outputs": [],
   "source": [
    "fig, ax = plt.subplots(\n",
    "    1, 3, figsize=(9*3, 7)\n",
    ")\n",
    "plot_assignement(\n",
    "    ax=ax[0],\n",
    "    X=bakery_pos, a=bakery_prod, X_label=\"Bakeries\",\n",
    "    Y=cafe_pos, b=cafe_prod, Y_label=\"Cafés\",\n",
    "    optimal_plan=optimal_plan_sinkhorn_l1_croissant,\n",
    "    title=r\"$\\ell_1$ geometry\"\n",
    ")\n",
    "\n",
    "plot_assignement(\n",
    "    ax=ax[1],\n",
    "    X=bakery_pos, a=bakery_prod,\n",
    "    Y=cafe_pos, b=cafe_prod,\n",
    "    optimal_plan=optimal_plan_sinkhorn_l2_croissant,\n",
    "    title=r\"$\\ell_2$ geometry\"\n",
    ")\n",
    "\n",
    "plot_assignement(\n",
    "    ax=ax[2],\n",
    "    X=bakery_pos, a=bakery_prod,\n",
    "    Y=cafe_pos, b=cafe_prod,\n",
    "    optimal_plan=optimal_plan_sinkhorn_l2_sq_croissant,\n",
    "    title=r\"$\\ell_2^2$ geometry\"\n",
    ")\n",
    "\n",
    "plt.show()"
   ]
  },
  {
   "cell_type": "markdown",
   "metadata": {
    "id": "-sYp-ewivydW"
   },
   "source": [
    "The above transport plans are obtained for $\\epsilon = 0.1 \\cdot \\bar{C}$. Let's increase epsilon to $\\epsilon = 10 \\cdot \\bar{C}$ and replot the optimal  transport plans to visualize the effect of epsilon."
   ]
  },
  {
   "cell_type": "code",
   "execution_count": null,
   "metadata": {
    "colab": {
     "base_uri": "https://localhost:8080/"
    },
    "executionInfo": {
     "elapsed": 1524,
     "status": "ok",
     "timestamp": 1677186325876,
     "user": {
      "displayName": "Théo Uscidda",
      "userId": "04606330742318440102"
     },
     "user_tz": -60
    },
    "id": "W-2Bl9eQwLJr",
    "outputId": "861f6970-aac7-4b0c-ec5d-0936d100ef45"
   },
   "outputs": [],
   "source": [
    "# l1 geometry\n",
    "epsilon = 10 * np.mean(C_l1)\n",
    "\n",
    "optimal_plan_sinkhorn_l1_croissant, optimal_cost_sinkhorn_l1_croissant = compute_transport_sinkhorn(\n",
    "    C=C_l1,\n",
    "    a=bakery_prod,\n",
    "    b=cafe_prod,\n",
    "    epsilon=epsilon,\n",
    "    verbose=False,\n",
    ")\n",
    "\n",
    "# l2 geometry\n",
    "epsilon = 10 * np.mean(C_l2)\n",
    "\n",
    "optimal_plan_sinkhorn_l2_croissant, optimal_cost_sinkhorn_l2_croissant = compute_transport_sinkhorn(\n",
    "    C=C_l2,\n",
    "    a=bakery_prod,\n",
    "    b=cafe_prod,\n",
    "    epsilon=epsilon,\n",
    "    verbose=False\n",
    ")\n",
    "\n",
    "# squared l2 geometry\n",
    "epsilon = 10 * np.mean(C_l2_sq)\n",
    "\n",
    "optimal_plan_sinkhorn_l2_sq_croissant, optimal_cost_sinkhorn_l2_sq_croissant = compute_transport_sinkhorn(\n",
    "    C=C_l2_sq,\n",
    "    a=bakery_prod,\n",
    "    b=cafe_prod,\n",
    "    epsilon=epsilon,\n",
    "    verbose=False\n",
    ")\n",
    "\n",
    "fig, ax = plt.subplots(\n",
    "    1, 3, figsize=(9*3, 7)\n",
    ")\n",
    "plot_assignement(\n",
    "    ax=ax[0],\n",
    "    X=bakery_pos, a=bakery_prod, X_label=\"Bakeries\",\n",
    "    Y=cafe_pos, b=cafe_prod, Y_label=\"Cafés\",\n",
    "    optimal_plan=optimal_plan_sinkhorn_l1_croissant,\n",
    "    title=r\"$\\ell_1$ geometry\"\n",
    ")\n",
    "plot_assignement(\n",
    "    ax=ax[1],\n",
    "    X=bakery_pos, a=bakery_prod,\n",
    "    Y=cafe_pos, b=cafe_prod,\n",
    "    optimal_plan=optimal_plan_sinkhorn_l2_croissant,\n",
    "    title=r\"$\\ell_2$ geometry\"\n",
    ")\n",
    "plot_assignement(\n",
    "    ax=ax[2],\n",
    "    X=bakery_pos, a=bakery_prod,\n",
    "    Y=cafe_pos, b=cafe_prod,\n",
    "    optimal_plan=optimal_plan_sinkhorn_l2_sq_croissant,\n",
    "    title=r\"$\\ell_2^2$ geometry\"\n",
    ")\n",
    "plt.show()"
   ]
  },
  {
   "cell_type": "markdown",
   "metadata": {
    "id": "mcQQpeEujGkd"
   },
   "source": [
    "***\n",
    "\n",
    "**Question:** What do you observe in relation to the transport plans obtained for the exact optimal transport?\n",
    "\n",
    "**Answer:**\n",
    "\n",
    "***"
   ]
  },
  {
   "cell_type": "markdown",
   "metadata": {
    "id": "fxLPrGdZl65x"
   },
   "source": [
    "### Sinkhorn consistency"
   ]
  },
  {
   "cell_type": "markdown",
   "metadata": {
    "id": "9MXRF1koJKlt"
   },
   "source": [
    "We now show that this Sinkhorn algorithm is consistent with classical optimal transport, using the \"croissant\" transport example and focusing on the $\\ell_2$ cost.\n",
    "\n",
    "***\n",
    "\n",
    "**Question:** Complete the following code to compute, for various $\\epsilon'$, values on a regular grid:\n",
    "* Set $\\epsilon = \\epsilon' \\cdot \\bar{C}$,\n",
    "* The deviation of the entropic optimal plan $P^*_\\epsilon$ to the exact optimal plan $P^*$, namely $\\|P^*_\\epsilon - P^*\\|_2$.\n",
    "* The deviation of the entropic optimal cost $\\langle C, P^*_\\epsilon \\rangle$ to the exact optimal plan $\\langle C, P^*_\\epsilon \\rangle$, namely: $100 \\cdot \\frac{\\langle C, P^*_\\epsilon \\rangle - \\langle C, P^* \\rangle}{\\langle C, P^*\\rangle}$.\n",
    "\n",
    "We remind that the excat optimal transport plan for the $\\ell_2$ cost is stored as variable `optimal_plan_l2_croissant`.\n",
    "\n",
    "**Answer:**"
   ]
  },
  {
   "cell_type": "code",
   "execution_count": null,
   "metadata": {
    "id": "xwH7vzYaJKlt"
   },
   "outputs": [],
   "source": [
    "plan_diff = []\n",
    "distance_diff = []\n",
    "grid = np.linspace(0.01, 5, 100)\n",
    "\n",
    "for epsilon_prime in grid:\n",
    "  epsilon = ... \n",
    "  optimal_plan_sinkhorn_l2_croissant, optimal_cost_sinkhorn_l2_croissant = ...\n",
    "    \n",
    "  assert optimal_cost_sinkhorn_l2_croissant != np.nan, (\n",
    "      \"Optimal cost is nan due to numerical instabilities.\"\n",
    "  )\n",
    "  plan_diff.append(\n",
    "      ... # TODO\n",
    "  )\n",
    "  distance_diff.append(\n",
    "      ... # TODO\n",
    "  )"
   ]
  },
  {
   "cell_type": "markdown",
   "metadata": {
    "id": "VBdOcxErzL7z"
   },
   "source": [
    "***"
   ]
  },
  {
   "cell_type": "markdown",
   "metadata": {
    "id": "Fslce89jzPE2"
   },
   "source": [
    "Now, let's plot the results."
   ]
  },
  {
   "cell_type": "code",
   "execution_count": null,
   "metadata": {
    "id": "dnFqdJchJi_i"
   },
   "outputs": [],
   "source": [
    "fig, ax = plt.subplots(2, 1, figsize=(16, 5*2))\n",
    "reg_strengths = np.mean(C_l2) * grid\n",
    "plot_consistency(\n",
    "    ax,\n",
    "    reg_strengths,\n",
    "    plan_diff,\n",
    "    distance_diff\n",
    ")\n",
    "\n",
    "plt.show()"
   ]
  },
  {
   "cell_type": "markdown",
   "metadata": {
    "id": "aVqfha16JKlv"
   },
   "source": [
    "## II.3 Using `OTT`\n"
   ]
  },
  {
   "cell_type": "markdown",
   "metadata": {
    "id": "QCwd1Q6p27bU"
   },
   "source": [
    "### Install `OTT`\n",
    "\n",
    "First, you need to install `OTT`."
   ]
  },
  {
   "cell_type": "code",
   "execution_count": null,
   "metadata": {
    "colab": {
     "base_uri": "https://localhost:8080/"
    },
    "executionInfo": {
     "elapsed": 4333,
     "status": "ok",
     "timestamp": 1677180333767,
     "user": {
      "displayName": "Théo Uscidda",
      "userId": "04606330742318440102"
     },
     "user_tz": -60
    },
    "id": "37NLrSin3jY8",
    "outputId": "8e7c9ade-b5c5-40ca-e624-0353e1feab1f"
   },
   "outputs": [],
   "source": [
    "! pip install ott-jax"
   ]
  },
  {
   "cell_type": "markdown",
   "metadata": {
    "id": "GNpDejpt4r7R"
   },
   "source": [
    "Then we load the required pakages."
   ]
  },
  {
   "cell_type": "code",
   "execution_count": null,
   "metadata": {
    "colab": {
     "base_uri": "https://localhost:8080/"
    },
    "executionInfo": {
     "elapsed": 9172,
     "status": "ok",
     "timestamp": 1710253945913,
     "user": {
      "displayName": "Théo Uscidda",
      "userId": "04606330742318440102"
     },
     "user_tz": -60
    },
    "id": "JEvSHK7tXm6p",
    "outputId": "16285428-091f-43b6-b89e-1e40099b577f"
   },
   "outputs": [],
   "source": [
    "import jax\n",
    "import jax.numpy as jnp\n",
    "import jax.random as random\n",
    "! pip install ott-jax\n",
    "import ott\n",
    "from ott.geometry import costs, pointcloud\n",
    "from ott.problems.linear import linear_problem\n",
    "from ott.solvers.linear import sinkhorn"
   ]
  },
  {
   "cell_type": "markdown",
   "metadata": {
    "id": "CoqHdA5n6UFb"
   },
   "source": [
    "### A world about `OTT` and `JAX`\n",
    "\n"
   ]
  },
  {
   "cell_type": "markdown",
   "metadata": {
    "id": "03XMsUDrWMVC"
   },
   "source": [
    "\n",
    "`OTT` is a python library that allows to compute and differentiate the entropic optimal transport. In this lab session, we will focus on entropic optimal transport computation, and not differentiation. differentiation will be takcled later.\n",
    "\n",
    "`OTT` is based on `JAX`, a package similar to `PyTorch` or `TensorFlow`, which allows to do automatic differentiation and GPU programming. It also provides useful primitives for efficient computation, such as the just-in-time (`jit`) compilation or the automatic vectorization map `vmap`. For more informations on `JAX`, see the tutorial https://jax.readthedocs.io/en/latest/notebooks/quickstart.html.\n",
    "\n",
    "Unlike `PyTorch` or `TensorFlow`, `JAX` is very close to `numpy` thanks to the `jax.numpy` package, which implements most of the `numpy` features, but for the `JAX` data structures. For this lab session, you only need to know how to manipulate `jax.numpy` Arrays and generate random numbers with `jax.random`.\n",
    "\n",
    "First, let's have a look to `jax.numpy` and see that it works (almost) exactly as numpy. Usually, one imports `jax.numpy as jnp` as done in the above cells, and developp as with `numpy`, by just replacing `np` by `jnp`. Note that `jax.numpy` Arrays are called `DeviceArray`. For more informations on `jax.numpy`, see https://jax.readthedocs.io/en/latest/jax-101/01-jax-basics.html."
   ]
  },
  {
   "cell_type": "code",
   "execution_count": null,
   "metadata": {
    "colab": {
     "base_uri": "https://localhost:8080/"
    },
    "executionInfo": {
     "elapsed": 1007,
     "status": "ok",
     "timestamp": 1710253950151,
     "user": {
      "displayName": "Théo Uscidda",
      "userId": "04606330742318440102"
     },
     "user_tz": -60
    },
    "id": "eVKBnABjWNi0",
    "outputId": "acd83464-ba74-44cb-e88e-11cd35231b30"
   },
   "outputs": [],
   "source": [
    "d = 5\n",
    "u = 5 * jnp.ones(5)\n",
    "Id = jnp.eye(5)\n",
    "print(type(u))\n",
    "print(f\"u = {u}\")\n",
    "print(f\"Id = {Id}\")\n",
    "print(f\"Id @ u = {jnp.dot(Id, u)}\")\n",
    "print(f\"sum(u) = {jnp.sum(u)}\")\n",
    "print(f\"var(u) = {jnp.var(u)}\")"
   ]
  },
  {
   "cell_type": "markdown",
   "metadata": {
    "id": "pAz_T6liKxl4"
   },
   "source": [
    "With `numpy.random`, you can generate random numbers on the fly without giving the `seed`. For example, `np.random.rand()` generates a random number $X \\sim U([0, 1])$. Indeed, `numpy.random` uses an internal seed which is updated each time a random number generating function is called. On the other hand, with `jax.random`, we must give the `seed` each time we generate random numbers. To some extent, we want to always control the randomness. Moreover, we do not pass exactly a `seed` but a `jax.random.PRNGKey` key which is itself instantiated from a `seed`. Let's see it on an example."
   ]
  },
  {
   "cell_type": "code",
   "execution_count": null,
   "metadata": {
    "colab": {
     "base_uri": "https://localhost:8080/"
    },
    "executionInfo": {
     "elapsed": 932,
     "status": "ok",
     "timestamp": 1710253954461,
     "user": {
      "displayName": "Théo Uscidda",
      "userId": "04606330742318440102"
     },
     "user_tz": -60
    },
    "id": "gax4GxnM6Xoc",
    "outputId": "8774ea8e-0982-437a-f289-aba82897cfa5"
   },
   "outputs": [],
   "source": [
    "rng = jax.random.PRNGKey(0)\n",
    "n, d = 13, 2\n",
    "x = jax.random.normal(rng, (n, d))\n",
    "print(f\"x = {x}\")"
   ]
  },
  {
   "cell_type": "markdown",
   "metadata": {
    "id": "91fFH7a1bBAq"
   },
   "source": [
    "Then, to have new keys to generate new random numbers, we need to split the key via `jax.random.split`, which generate $n \\geq 2$ new keys from a key."
   ]
  },
  {
   "cell_type": "code",
   "execution_count": null,
   "metadata": {
    "colab": {
     "base_uri": "https://localhost:8080/"
    },
    "executionInfo": {
     "elapsed": 2,
     "status": "ok",
     "timestamp": 1710253956165,
     "user": {
      "displayName": "Théo Uscidda",
      "userId": "04606330742318440102"
     },
     "user_tz": -60
    },
    "id": "gswz4dVVVsxg",
    "outputId": "0a1bc68e-a199-4d78-dbc9-1259e8467580"
   },
   "outputs": [],
   "source": [
    "rng1, rng2, rng3 = jax.random.split(rng, 3)\n",
    "a = jax.random.normal(rng1, (n, d))\n",
    "b = jax.random.normal(rng2, (n, d))\n",
    "c = jax.random.normal(rng2, (n, d))\n",
    "print(f\"a = {a}\")\n",
    "print(f\"b = {b}\")\n",
    "print(f\"c = {c}\")"
   ]
  },
  {
   "cell_type": "markdown",
   "metadata": {
    "id": "oLEYairybYaJ"
   },
   "source": [
    "You now know everything you need for the moment!"
   ]
  },
  {
   "cell_type": "markdown",
   "metadata": {
    "id": "Fjb-NxPObgV2"
   },
   "source": [
    "### Entropic optimal transport with `OTT`\n"
   ]
  },
  {
   "cell_type": "markdown",
   "metadata": {
    "id": "E6JL74fXccOJ"
   },
   "source": [
    "Now let's use the implementation of the `OTT` Sinkhorn algorithm, on some random weighted point clouds. Then you will, by yourself, use it on the \"croissant\" transport example.\n",
    "\n",
    "Let's first generate the data.\n",
    "\n"
   ]
  },
  {
   "cell_type": "code",
   "execution_count": null,
   "metadata": {
    "executionInfo": {
     "elapsed": 879,
     "status": "ok",
     "timestamp": 1710253959670,
     "user": {
      "displayName": "Théo Uscidda",
      "userId": "04606330742318440102"
     },
     "user_tz": -60
    },
    "id": "2R1fKgKqel_i"
   },
   "outputs": [],
   "source": [
    "# generate data\n",
    "rng = jax.random.PRNGKey(0)\n",
    "rng1, rng2 = jax.random.split(rng, 2)\n",
    "n, m, d = 13, 17, 2\n",
    "x = jax.random.normal(rng1, (n, d))\n",
    "y = jax.random.normal(rng2, (m, d)) + 1\n",
    "a = jnp.ones(n) / n\n",
    "b = jnp.ones(m) / m"
   ]
  },
  {
   "cell_type": "markdown",
   "metadata": {
    "id": "sDsOfa2SbiKq"
   },
   "source": [
    "Then, we have to define a `PointCloud` `geometry` which contains:\n",
    "* the point clouds `X` and `Y`,\n",
    "* the cost function `cost_fn`,\n",
    "* the entropic regularization strength `epsilon`.\n",
    "\n",
    "Note that the `geometry` does not contain the weight vectors `a` and `b`, these are passed later.\n",
    "\n",
    "The `cost_fn` should be an istance of `ott.geometry.CostFn`. Most of the usual costs are implemented. For example, the three costs $\\ell_1, \\ell_2$ and $\\ell_2^2$ are implemented. Here, we will focus on the $\\ell_2$ cost, implemented by `ott.geometry.costs.Euclidean`. See https://ott-jax.readthedocs.io/en/latest/_autosummary/ott.geometry.costs.CostFn.html#ott.geometry.costs.CostFn for more information on the provided `cost_fn`.\n",
    "\n",
    "We still choose `epsilon` to be $0.1 \\cdot \\bar{C}$. To do this, we set `relative_epsilon=True` when instantiating the geometry. The term `relative` means that `epsilon` is chosen relatively to the mean of the cost matrix. Passing then `epsilon=0.1`, the value of `epsilon` used by Sinkhorn will be $0.1 \\cdot \\bar{C}$."
   ]
  },
  {
   "cell_type": "code",
   "execution_count": null,
   "metadata": {
    "executionInfo": {
     "elapsed": 236,
     "status": "ok",
     "timestamp": 1710254491934,
     "user": {
      "displayName": "Théo Uscidda",
      "userId": "04606330742318440102"
     },
     "user_tz": -60
    },
    "id": "Rii_U2FTf-zb"
   },
   "outputs": [],
   "source": [
    "# define geometry\n",
    "geom = pointcloud.PointCloud(\n",
    "    x=x, y=y,\n",
    "    cost_fn=costs.Euclidean(),\n",
    "    epsilon=.1,\n",
    "    scale_cost='mean'\n",
    ")"
   ]
  },
  {
   "cell_type": "markdown",
   "metadata": {
    "id": "mLVtAmeDlq6F"
   },
   "source": [
    "We then define an optimization problem from this geometry, which is the problem we will solve with the Sinkhorn algorithm.  We instantiate this optimization problem as an object of the class `linear_problem.LinearProblem`. We pass the weight vectors `a` and `b` because they define the constraints of the linear problem. Then, we instantiate a Sinkhorn solver, object of the class `sinkhorn.Sinkhorn`, which we will use to solve this optimization problem.\n",
    "\n",
    "The `OTT` library is designed in this way because it allows to solve other optimal transport problems, which do not necessarily have a linear problem structure, and which use other solvers than Sinkhorn."
   ]
  },
  {
   "cell_type": "code",
   "execution_count": null,
   "metadata": {
    "executionInfo": {
     "elapsed": 1194,
     "status": "ok",
     "timestamp": 1710254032599,
     "user": {
      "displayName": "Théo Uscidda",
      "userId": "04606330742318440102"
     },
     "user_tz": -60
    },
    "id": "XnRNJ6xtkdQL"
   },
   "outputs": [],
   "source": [
    "# create optimization problem\n",
    "ot_prob = linear_problem.LinearProblem(geom, a=a, b=b)\n",
    "\n",
    "# create sinkhorn solver\n",
    "solver = sinkhorn.Sinkhorn(ot_prob)\n",
    "\n",
    "# solve the OT problem\n",
    "ot_sol = solver(ot_prob)"
   ]
  },
  {
   "cell_type": "markdown",
   "metadata": {
    "id": "fRqRXlAZqQQl"
   },
   "source": [
    "The `ot` output object contains several callables and properties, notably a boolean assessing the Sinkhorn convergence, the marginal errors throughtout iterations and the optimal transport plan."
   ]
  },
  {
   "cell_type": "code",
   "execution_count": null,
   "metadata": {
    "colab": {
     "base_uri": "https://localhost:8080/"
    },
    "executionInfo": {
     "elapsed": 478,
     "status": "ok",
     "timestamp": 1710254470735,
     "user": {
      "displayName": "Théo Uscidda",
      "userId": "04606330742318440102"
     },
     "user_tz": -60
    },
    "id": "4Gp0Y93MlYef",
    "outputId": "94cda90d-d8cc-49ef-de52-77d6dfb1f2f9"
   },
   "outputs": [],
   "source": [
    "print(\n",
    "    \" Sinkhorn has converged: \",\n",
    "    ot_sol.converged,\n",
    "    \"\\n\",\n",
    "    \"Error upon last iteration: \",\n",
    "    ot_sol.errors[(ot_sol.errors > -1)][-1],\n",
    "    \"\\n\",\n",
    "    \"Sinkhorn required \",\n",
    "    jnp.sum(ot_sol.errors > -1),\n",
    "    \" iterations to converge. \\n\",\n",
    "    \"entropic OT matrix: \",\n",
    "    ot_sol.matrix,\n",
    ")"
   ]
  },
  {
   "cell_type": "markdown",
   "metadata": {
    "id": "W4Tskg0Zqx9D"
   },
   "source": [
    "***\n",
    "**Question:** Compute the entropic optimal transport plan and cost for the \"croissant\" transport problem, with $\\ell_2$ cost and $\\epsilon = .1 \\cdot \\max(C)$. Then, plot the optimal transport plan."
   ]
  },
  {
   "cell_type": "markdown",
   "metadata": {
    "id": "9WhEozPUrF4f"
   },
   "source": [
    "**Answer:**"
   ]
  },
  {
   "cell_type": "markdown",
   "metadata": {
    "id": "TmFnRmZhw6ie"
   },
   "source": [
    "***"
   ]
  },
  {
   "cell_type": "code",
   "execution_count": null,
   "metadata": {
    "executionInfo": {
     "elapsed": 875,
     "status": "ok",
     "timestamp": 1710254478794,
     "user": {
      "displayName": "Théo Uscidda",
      "userId": "04606330742318440102"
     },
     "user_tz": -60
    },
    "id": "3FQZy2Ubu3nC"
   },
   "outputs": [],
   "source": [
    "# define geometry\n",
    "geom = ...\n",
    "\n",
    "# create optimization problem\n",
    "ot_prob = ...\n",
    "\n",
    "# create sinkhorn solver\n",
    "solver = ...\n",
    "\n",
    "# solve the OT problem\n",
    "ot_sol = ..."
   ]
  },
  {
   "cell_type": "code",
   "execution_count": null,
   "metadata": {
    "colab": {
     "base_uri": "https://localhost:8080/"
    },
    "executionInfo": {
     "elapsed": 363,
     "status": "ok",
     "timestamp": 1710254479155,
     "user": {
      "displayName": "Théo Uscidda",
      "userId": "04606330742318440102"
     },
     "user_tz": -60
    },
    "id": "zg5to4DSFmX2",
    "outputId": "e308fc99-13ec-4ff0-bea3-393bff69370e"
   },
   "outputs": [],
   "source": [
    "print(\n",
    "    \" Sinkhorn has converged: \",\n",
    "    ot_sol.converged,\n",
    "    \"\\n\",\n",
    "    \"Error upon last iteration: \",\n",
    "    ot_sol.errors[(ot_sol.errors > -1)][-1],\n",
    "    \"\\n\",\n",
    "    \"Sinkhorn required \",\n",
    "    jnp.sum(ot_sol.errors > -1),\n",
    "    \" iterations to converge. \\n\",\n",
    "    \"entropic OT matrix: \",\n",
    "    ot_sol.matrix,\n",
    ")"
   ]
  },
  {
   "cell_type": "code",
   "execution_count": null,
   "metadata": {
    "executionInfo": {
     "elapsed": 1,
     "status": "ok",
     "timestamp": 1710254421596,
     "user": {
      "displayName": "Théo Uscidda",
      "userId": "04606330742318440102"
     },
     "user_tz": -60
    },
    "id": "LAL7eR45Fs6F"
   },
   "outputs": [],
   "source": [
    "## Plot OT plan"
   ]
  },
  {
   "cell_type": "code",
   "execution_count": null,
   "metadata": {},
   "outputs": [],
   "source": []
  }
 ],
 "metadata": {
  "colab": {
   "provenance": []
  },
  "kernelspec": {
   "display_name": "Python 3",
   "language": "python",
   "name": "python3"
  },
  "language_info": {
   "codemirror_mode": {
    "name": "ipython",
    "version": 3
   },
   "file_extension": ".py",
   "mimetype": "text/x-python",
   "name": "python",
   "nbconvert_exporter": "python",
   "pygments_lexer": "ipython3",
   "version": "3.8.3"
  },
  "toc": {
   "base_numbering": 1,
   "nav_menu": {},
   "number_sections": true,
   "sideBar": true,
   "skip_h1_title": false,
   "title_cell": "Table of Contents",
   "title_sidebar": "Contents",
   "toc_cell": false,
   "toc_position": {},
   "toc_section_display": true,
   "toc_window_display": false
  }
 },
 "nbformat": 4,
 "nbformat_minor": 4
}
